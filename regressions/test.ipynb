{
 "cells": [
  {
   "cell_type": "code",
   "execution_count": 2,
   "metadata": {},
   "outputs": [],
   "source": [
    "import numpy as np\n",
    "import scipy\n",
    "import pandas as pd\n",
    "import matplotlib.pyplot as plt\n",
    "from losses import mse"
   ]
  },
  {
   "cell_type": "code",
   "execution_count": 25,
   "metadata": {},
   "outputs": [],
   "source": [
    "class KNN:\n",
    "    \"\"\"\n",
    "    Implements a simple K-Nearest Neighbors (KNN) classifier.\n",
    "\n",
    "    Attributs:\n",
    "    ----------\n",
    "        n_neighbors (int): Number of neighbors to consider for classification (default: 3).\n",
    "        metric (str): Distance metric to use ('euclidean' by default).\n",
    "\n",
    "    Methods:\n",
    "    -------\n",
    "        fit(X, Y): Trains the model by storing the training data and their labels.\n",
    "        predict(X): Predicts labels for a new set of data points.\n",
    "    \"\"\"\n",
    "    \n",
    "    def __init__(self, n_neighbors:int =3, metric: str = 'euclidean') -> None:\n",
    "        self.n_neighbors = n_neighbors\n",
    "        self.metric = metric\n",
    "        self.train_data = None\n",
    "        self.train_target = None\n",
    "\n",
    "    def fit(self, X: np.ndarray, Y: np.ndarray) -> None:\n",
    "        \"\"\"\n",
    "        Stores the training data and corresponding labels.\n",
    "\n",
    "        Parameters:\n",
    "        ----------\n",
    "            X (np.ndarray): Training data, with samples as rows.\n",
    "            Y (np.ndarray): Labels for the training data.\n",
    "        \"\"\"\n",
    "        self.train_data = X\n",
    "        self.train_target = Y\n",
    "\n",
    "    def predict(self, X: np.ndarray) -> np.ndarray:\n",
    "        \"\"\"\n",
    "        Predicts labels for each sample in the input data.\n",
    "\n",
    "        Parameters:\n",
    "        ----------\n",
    "            X (np.ndarray): Data to predict labels for, with samples as rows.\n",
    "\n",
    "        Returns:\n",
    "        -------\n",
    "            np.ndarray: Predicted labels for each input sample.\n",
    "        \"\"\"\n",
    "        return np.array([self._predict(x=sample) for sample in X])\n",
    "\n",
    "    def _predict(self,x: np.ndarray) -> int:\n",
    "        \"\"\"\n",
    "        Predicts the label for a single sample based on the nearest neighbors.\n",
    "\n",
    "        Parameters:\n",
    "        ----------\n",
    "            x (np.ndarray): A single sample to predict the label for.\n",
    "\n",
    "        Returns:\n",
    "        -------\n",
    "            int: Predicted label for the sample.\n",
    "        \"\"\"\n",
    "        distances = None\n",
    "        if self.metric == 'euclidean':\n",
    "            distances = np.array([self.euclidean_distance(x1=x, x2=sample) for sample in self.train_data])\n",
    "\n",
    "        nearest_index = np.argsort(a= distances)[:self.n_neighbors]\n",
    "        nearest_labels = self.train_target[nearest_index]\n",
    "\n",
    "        return np.bincount(nearest_labels).argmax()\n",
    "\n",
    "    def euclidean_distance(self, x1: np.ndarray, x2: np.ndarray) -> float:\n",
    "        \"\"\"\n",
    "        Calculates the Euclidean distance between two samples.\n",
    "\n",
    "        Parameters:\n",
    "            x1 (np.ndarray): First sample.\n",
    "            x2 (np.ndarray): Second sample.\n",
    "\n",
    "        Returns:\n",
    "            float: Euclidean distance between x1 and x2.\n",
    "        \"\"\"\n",
    "        return np.sqrt(np.sum((x1 - x2)**2, axis = 0))\n",
    "    \n",
    "\n",
    "    # -------------------- Dunder methods -----------------------------------------------------------\n",
    "\n",
    "    def __str__(self) -> str:\n",
    "        # Crée un dictionnaire pour représenter les attributs de l'instance sans transformation spéciale\n",
    "        return f\"KNN(n_neighbors={self.n_neighbors}, metric='{self.metric}')\"\n",
    "    \n",
    "    def __repr__(self) -> str:\n",
    "        return f\"{self.__class__.__name__}(n_neighbors={self.n_neighbors}, metric='{self.metric}')\"\n",
    "    \n",
    "    def __eq__(self, other) -> bool:\n",
    "        if isinstance(other, self.__class__):\n",
    "            return self.__dict__ == other.__dict__\n",
    "        return False\n",
    "    \n",
    "    def __call__(self, X: np.ndarray) -> np.ndarray:\n",
    "        return self.predict(X)\n"
   ]
  },
  {
   "cell_type": "code",
   "execution_count": 26,
   "metadata": {},
   "outputs": [],
   "source": [
    "from sklearn import datasets\n",
    "from sklearn.model_selection import train_test_split\n",
    "\n",
    "iris = datasets.load_iris()\n",
    "data = iris.data\n",
    "y= iris.target"
   ]
  },
  {
   "cell_type": "code",
   "execution_count": 27,
   "metadata": {},
   "outputs": [],
   "source": [
    "mask = y < 2\n",
    "y = y[mask] "
   ]
  },
  {
   "cell_type": "code",
   "execution_count": 28,
   "metadata": {},
   "outputs": [
    {
     "data": {
      "text/plain": [
       "(100,)"
      ]
     },
     "execution_count": 28,
     "metadata": {},
     "output_type": "execute_result"
    }
   ],
   "source": [
    "y.shape"
   ]
  },
  {
   "cell_type": "code",
   "execution_count": 29,
   "metadata": {},
   "outputs": [
    {
     "data": {
      "text/plain": [
       "(100, 4)"
      ]
     },
     "execution_count": 29,
     "metadata": {},
     "output_type": "execute_result"
    }
   ],
   "source": [
    "data = data[mask,:]\n",
    "data.shape"
   ]
  },
  {
   "cell_type": "code",
   "execution_count": 30,
   "metadata": {},
   "outputs": [
    {
     "data": {
      "text/plain": [
       "(100, 4)"
      ]
     },
     "execution_count": 30,
     "metadata": {},
     "output_type": "execute_result"
    }
   ],
   "source": [
    "data.shape"
   ]
  },
  {
   "cell_type": "code",
   "execution_count": 31,
   "metadata": {},
   "outputs": [],
   "source": [
    "xtrain, xtest, ytrain, ytest = train_test_split(data, y, test_size=0.2)"
   ]
  },
  {
   "cell_type": "code",
   "execution_count": 32,
   "metadata": {},
   "outputs": [
    {
     "data": {
      "text/plain": [
       "(20,)"
      ]
     },
     "execution_count": 32,
     "metadata": {},
     "output_type": "execute_result"
    }
   ],
   "source": [
    "ytest.shape"
   ]
  },
  {
   "cell_type": "code",
   "execution_count": 33,
   "metadata": {},
   "outputs": [],
   "source": [
    "knn = KNN()"
   ]
  },
  {
   "cell_type": "code",
   "execution_count": 34,
   "metadata": {},
   "outputs": [],
   "source": [
    "knn.fit(X=data, Y=y)"
   ]
  },
  {
   "cell_type": "code",
   "execution_count": 35,
   "metadata": {},
   "outputs": [
    {
     "data": {
      "text/plain": [
       "array([0, 1, 1, 1, 0, 0, 1, 0, 0, 0, 1, 1, 0, 0, 1, 1, 1, 1, 0, 0])"
      ]
     },
     "execution_count": 35,
     "metadata": {},
     "output_type": "execute_result"
    }
   ],
   "source": [
    "knn.predict(X=xtest)"
   ]
  },
  {
   "cell_type": "code",
   "execution_count": 39,
   "metadata": {},
   "outputs": [
    {
     "data": {
      "text/plain": [
       "array([0, 1, 1, 1, 0, 0, 1, 0, 0, 0, 1, 1, 0, 0, 1, 1, 1, 1, 0, 0])"
      ]
     },
     "execution_count": 39,
     "metadata": {},
     "output_type": "execute_result"
    }
   ],
   "source": [
    "ytest"
   ]
  },
  {
   "cell_type": "code",
   "execution_count": 36,
   "metadata": {},
   "outputs": [
    {
     "data": {
      "text/plain": [
       "array([1, 0, 1, 1, 1, 0, 1, 0, 1, 0, 0, 0, 1, 0, 0, 1, 1, 1, 1, 1, 1, 0,\n",
       "       1, 1, 0, 1, 1, 0, 0, 1, 1, 0, 0, 1, 0, 0, 1, 1, 1, 1, 1, 1, 0, 0,\n",
       "       1, 0, 0, 1, 1, 0, 0, 0, 0, 1, 0, 0, 0, 1, 1, 0, 1, 0, 0, 1, 0, 1,\n",
       "       0, 0, 1, 0, 1, 0, 0, 0, 0, 0, 1, 1, 1, 0])"
      ]
     },
     "execution_count": 36,
     "metadata": {},
     "output_type": "execute_result"
    }
   ],
   "source": [
    "knn.predict(X=xtrain)"
   ]
  },
  {
   "cell_type": "code",
   "execution_count": 37,
   "metadata": {},
   "outputs": [],
   "source": [
    "from sklearn.metrics import accuracy_score"
   ]
  },
  {
   "cell_type": "code",
   "execution_count": 38,
   "metadata": {},
   "outputs": [
    {
     "data": {
      "text/plain": [
       "1.0"
      ]
     },
     "execution_count": 38,
     "metadata": {},
     "output_type": "execute_result"
    }
   ],
   "source": [
    "accuracy_score(y_true=ytest, y_pred=knn.predict(xtest))"
   ]
  },
  {
   "cell_type": "code",
   "execution_count": 146,
   "metadata": {},
   "outputs": [
    {
     "data": {
      "image/png": "[encoded data removed]",
      "text/plain": [
       "<Figure size 2000x600 with 1 Axes>"
      ]
     },
     "metadata": {},
     "output_type": "display_data"
    }
   ],
   "source": [
    "plt.plot(range(1, logistic.max_iterations + 1)[:9000], logistic.history[:9000], color='blue')\n",
    "plt.rcParams[\"figure.figsize\"] = (20, 6)\n",
    "plt.grid()\n",
    "plt.xlabel('Number of iterations')\n",
    "plt.ylabel('Cost (J)')\n",
    "plt.title('Convergence of gradient descent')\n",
    "plt.show()"
   ]
  },
  {
   "cell_type": "code",
   "execution_count": 74,
   "metadata": {},
   "outputs": [],
   "source": [
    "lr = LinearRegression(max_iterations=100000)\n",
    "\n",
    "X = np.array([[1, 1], [1, 2], [2, 2], [2, 3]])\n",
    "\n",
    "\n",
    "y = np.dot(X, np.array([1, 2])) + 3\n",
    "\n",
    "lr.fit(X, y)"
   ]
  },
  {
   "cell_type": "code",
   "execution_count": 75,
   "metadata": {},
   "outputs": [
    {
     "data": {
      "text/plain": [
       "LinearRegression({'random_state': 42, 'learning_rate': 0.0001, 'max_iterations': 100000, 'stopping_threshold': 1e-06, 'W': array([2.08185111, 1.53335983, 2.02420127]), 'coef': array([1.53335983, 2.02420127]), 'intercept': 2.081851112878504})"
      ]
     },
     "execution_count": 75,
     "metadata": {},
     "output_type": "execute_result"
    }
   ],
   "source": [
    "lr"
   ]
  },
  {
   "cell_type": "code",
   "execution_count": 76,
   "metadata": {},
   "outputs": [
    {
     "data": {
      "text/plain": [
       "array([2.08185111, 1.53335983, 2.02420127])"
      ]
     },
     "execution_count": 76,
     "metadata": {},
     "output_type": "execute_result"
    }
   ],
   "source": [
    "lr.W"
   ]
  },
  {
   "cell_type": "code",
   "execution_count": 79,
   "metadata": {},
   "outputs": [],
   "source": [
    "lasso = Lasso(max_iterations=100000, alpha=5)\n",
    "lasso.fit(X,y)"
   ]
  },
  {
   "cell_type": "code",
   "execution_count": 80,
   "metadata": {},
   "outputs": [
    {
     "data": {
      "text/plain": [
       "Lasso({'random_state': 42, 'learning_rate': 0.0001, 'max_iterations': 100000, 'stopping_threshold': 1e-06, 'W': array([6.88587789e-04, 6.33350112e-04, 2.94404509e+00]), 'coef': array([6.33350112e-04, 2.94404509e+00]), 'intercept': 0.0006885877885581932, 'alpha': 5})"
      ]
     },
     "execution_count": 80,
     "metadata": {},
     "output_type": "execute_result"
    }
   ],
   "source": [
    "lasso"
   ]
  },
  {
   "cell_type": "code",
   "execution_count": 83,
   "metadata": {},
   "outputs": [],
   "source": [
    "ridge = Ridge(max_iterations=100000, alpha=5)\n",
    "ridge.fit(X,y)"
   ]
  },
  {
   "cell_type": "code",
   "execution_count": 84,
   "metadata": {},
   "outputs": [
    {
     "data": {
      "text/plain": [
       "Ridge({'random_state': 42, 'learning_rate': 0.0001, 'max_iterations': 100000, 'stopping_threshold': 1e-06, 'W': array([0.68152746, 1.04890895, 1.41873589]), 'coef': array([1.04890895, 1.41873589]), 'intercept': 0.6815274642587479, 'alpha': 5})"
      ]
     },
     "execution_count": 84,
     "metadata": {},
     "output_type": "execute_result"
    }
   ],
   "source": [
    "ridge"
   ]
  },
  {
   "cell_type": "code",
   "execution_count": 87,
   "metadata": {},
   "outputs": [
    {
     "data": {
      "text/plain": [
       "ElasticNet({'random_state': 42, 'learning_rate': 0.0001, 'max_iterations': 100000, 'stopping_threshold': 1e-06, 'W': array([0.31619305, 1.0045106 , 1.69327921]), 'coef': array([1.0045106 , 1.69327921]), 'intercept': 0.31619305367756706, 'alpha': 5, 'l1_ratio': 0.5})"
      ]
     },
     "execution_count": 87,
     "metadata": {},
     "output_type": "execute_result"
    }
   ],
   "source": [
    "elastic = ElasticNet(max_iterations=100000, alpha=5)\n",
    "elastic.fit(X,y)\n",
    "elastic"
   ]
  },
  {
   "cell_type": "code",
   "execution_count": 88,
   "metadata": {},
   "outputs": [
    {
     "ename": "SyntaxError",
     "evalue": "invalid syntax. Maybe you meant '==' or ':=' instead of '='? (867792159.py, line 3)",
     "output_type": "error",
     "traceback": [
      "\u001b[0;36m  Cell \u001b[0;32mIn[88], line 3\u001b[0;36m\u001b[0m\n\u001b[0;31m    alpha = a + b and l1_ratio = a / (a + b)\u001b[0m\n\u001b[0m    ^\u001b[0m\n\u001b[0;31mSyntaxError\u001b[0m\u001b[0;31m:\u001b[0m invalid syntax. Maybe you meant '==' or ':=' instead of '='?\n"
     ]
    }
   ],
   "source": [
    "a = 1.\n",
    "b= 2.\n",
    "alpha = a + b and l1_ratio = a / (a + b)"
   ]
  },
  {
   "cell_type": "code",
   "execution_count": null,
   "metadata": {},
   "outputs": [
    {
     "data": {
      "image/png": "[encoded data removed]",
      "text/plain": [
       "<Figure size 640x480 with 1 Axes>"
      ]
     },
     "metadata": {},
     "output_type": "display_data"
    }
   ],
   "source": [
    "\n",
    "plt.plot(range(1, lr.max_iterations + 1)[:6000], lr.history[:6000], color='blue')\n",
    "plt.rcParams[\"figure.figsize\"] = (20, 6)\n",
    "plt.grid()\n",
    "plt.xlabel('Number of iterations')\n",
    "plt.ylabel('Cost (J)')\n",
    "plt.title('Convergence of gradient descent')\n",
    "plt.show()"
   ]
  },
  {
   "cell_type": "code",
   "execution_count": 6,
   "metadata": {},
   "outputs": [
    {
     "data": {
      "text/plain": [
       "array([1.53335983, 2.02420127])"
      ]
     },
     "execution_count": 6,
     "metadata": {},
     "output_type": "execute_result"
    }
   ],
   "source": [
    "lr.coef"
   ]
  },
  {
   "cell_type": "code",
   "execution_count": 7,
   "metadata": {},
   "outputs": [
    {
     "data": {
      "text/plain": [
       "2.081851112878504"
      ]
     },
     "execution_count": 7,
     "metadata": {},
     "output_type": "execute_result"
    }
   ],
   "source": [
    "lr.intercept"
   ]
  },
  {
   "cell_type": "code",
   "execution_count": 8,
   "metadata": {},
   "outputs": [
    {
     "data": {
      "text/plain": [
       "0.9745464520082097"
      ]
     },
     "execution_count": 8,
     "metadata": {},
     "output_type": "execute_result"
    }
   ],
   "source": [
    "lr.score(X=X, Y=y)"
   ]
  },
  {
   "cell_type": "code",
   "execution_count": 9,
   "metadata": {},
   "outputs": [
    {
     "data": {
      "text/plain": [
       "array([ 5.63941221,  7.66361348,  9.19697331, 11.22117458])"
      ]
     },
     "execution_count": 9,
     "metadata": {},
     "output_type": "execute_result"
    }
   ],
   "source": [
    "lr.predict(X)"
   ]
  },
  {
   "cell_type": "code",
   "execution_count": 10,
   "metadata": {},
   "outputs": [
    {
     "data": {
      "text/plain": [
       "array([2.08185111, 1.53335983, 2.02420127])"
      ]
     },
     "execution_count": 10,
     "metadata": {},
     "output_type": "execute_result"
    }
   ],
   "source": [
    "lr.W"
   ]
  },
  {
   "cell_type": "code",
   "execution_count": 56,
   "metadata": {},
   "outputs": [
    {
     "data": {
      "text/plain": [
       "0.5459774884141415"
      ]
     },
     "execution_count": 56,
     "metadata": {},
     "output_type": "execute_result"
    }
   ],
   "source": [
    "X = np.array([32.50234527, 53.42680403, 61.53035803, 47.47563963, 59.81320787,\n",
    "  55.14218841, 52.21179669, 39.29956669, 48.10504169, 52.55001444,\n",
    "  45.41973014, 54.35163488, 44.1640495 , 58.16847072, 56.72720806,\n",
    "  48.95588857, 44.68719623, 60.29732685, 45.61864377, 38.81681754]).reshape((-1, 1))\n",
    "Y = np.array([31.70700585, 68.77759598, 62.5623823 , 71.54663223, 87.23092513,\n",
    "  78.21151827, 79.64197305, 59.17148932, 75.3312423 , 71.30087989,\n",
    "  55.16567715, 82.47884676, 62.00892325, 75.39287043, 81.43619216,\n",
    "  60.72360244, 82.89250373, 97.37989686, 48.84715332, 56.87721319])\n",
    "\n",
    "model = LinearRegression(max_iterations=100000)\n",
    "\n",
    "model.fit(X=X, Y=Y)\n",
    "model.score(X=X, Y=Y)"
   ]
  },
  {
   "cell_type": "code",
   "execution_count": 58,
   "metadata": {},
   "outputs": [
    {
     "data": {
      "text/plain": [
       "0.5457920793692866"
      ]
     },
     "execution_count": 58,
     "metadata": {},
     "output_type": "execute_result"
    }
   ],
   "source": [
    "lasso1 = Lasso(max_iterations=100000, alpha= 10)\n",
    "\n",
    "lasso1.fit(X=X, Y=Y)\n",
    "lasso1.score(X=X, Y=Y)"
   ]
  },
  {
   "cell_type": "code",
   "execution_count": 23,
   "metadata": {},
   "outputs": [
    {
     "data": {
      "text/plain": [
       "-0.0002560585576898422"
      ]
     },
     "execution_count": 23,
     "metadata": {},
     "output_type": "execute_result"
    }
   ],
   "source": [
    "model.score(X=X, Y=Y) - model1.score(X= scaled_data, Y=Y)"
   ]
  },
  {
   "cell_type": "code",
   "execution_count": 13,
   "metadata": {},
   "outputs": [
    {
     "data": {
      "text/plain": [
       "[576.3733346969173,\n",
       " 363.37559548593447,\n",
       " 245.34838351874595,\n",
       " 179.94664341811864,\n",
       " 143.70595327216776,\n",
       " 123.62410796499333,\n",
       " 112.49627038146014,\n",
       " 106.33006558263187,\n",
       " 102.91322181297323,\n",
       " 101.01986565247827,\n",
       " 99.97071091575087,\n",
       " 99.38934865702281,\n",
       " 99.06720155277341,\n",
       " 98.88869185073044,\n",
       " 98.78977511598227,\n",
       " 98.73496277427884,\n",
       " 98.70458974614779,\n",
       " 98.68775913424051,\n",
       " 98.67843270352232,\n",
       " 98.67326452155336,\n",
       " 98.67040052604105,\n",
       " 98.66881333611397,\n",
       " 98.66793365512089,\n",
       " 98.66744602198362,\n",
       " 98.66717563207007,\n",
       " 98.66702562189492,\n",
       " 98.66694231705257,\n",
       " 98.66689597525328,\n",
       " 98.66687011557319,\n",
       " 98.66685560553289,\n",
       " 98.66684738460393,\n",
       " 98.66684264862485,\n",
       " 98.666839843742,\n",
       " 98.66683810892704,\n",
       " 98.66683696706353,\n",
       " 98.66683615376971,\n",
       " 98.66683552254503,\n",
       " 98.66683499221017,\n",
       " 98.66683451778162,\n",
       " 98.66683407433297,\n",
       " 98.66683364805183,\n",
       " 98.66683323128446,\n",
       " 98.66683281978978,\n",
       " 98.66683241121754,\n",
       " 98.66683200426563,\n",
       " 98.66683159821235,\n",
       " 98.66683119265795,\n",
       " 98.66683078738068,\n",
       " 98.66683038225791,\n",
       " 98.66682997722157,\n",
       " 98.66682957223392,\n",
       " 98.66682916727407,\n",
       " 98.66682876233048,\n",
       " 98.66682835739674,\n",
       " 98.66682795246928,\n",
       " 98.66682754754613,\n",
       " 98.6668271426262,\n",
       " 98.66682673770886,\n",
       " 98.6668263327938,\n",
       " 98.66682592788086,\n",
       " 98.66682552296989,\n",
       " 98.66682511806083,\n",
       " 98.66682471315369,\n",
       " 98.66682430824848,\n",
       " 98.66682390334513,\n",
       " 98.66682349844356,\n",
       " 98.6668230935439,\n",
       " 98.66682268864612,\n",
       " 98.66682228375021,\n",
       " 98.66682187885615,\n",
       " 98.66682147396396,\n",
       " 98.6668210690736,\n",
       " 98.66682066418517,\n",
       " 98.66682025929853,\n",
       " 98.66681985441377,\n",
       " 98.66681944953089,\n",
       " 98.66681904464986,\n",
       " 98.66681863977068,\n",
       " 98.66681823489338,\n",
       " 98.66681783001795,\n",
       " 98.66681742514436,\n",
       " 98.66681702027265,\n",
       " 98.66681661540278,\n",
       " 98.66681621053479,\n",
       " 98.66681580566862,\n",
       " 98.66681540080437,\n",
       " 98.6668149959419,\n",
       " 98.6668145910814,\n",
       " 98.66681418622267,\n",
       " 98.66681378136585,\n",
       " 98.66681337651083,\n",
       " 98.66681297165778,\n",
       " 98.6668125668065,\n",
       " 98.66681216195711,\n",
       " 98.6668117571096,\n",
       " 98.6668113522639,\n",
       " 98.6668109474201,\n",
       " 98.66681054257815,\n",
       " 98.66681013773805,\n",
       " 98.66680973289988,\n",
       " 98.66680932806347,\n",
       " 98.66680892322901,\n",
       " 98.66680851839638,\n",
       " 98.66680811356561,\n",
       " 98.66680770873667,\n",
       " 98.66680730390962,\n",
       " 98.66680689908438,\n",
       " 98.66680649426105,\n",
       " 98.66680608943958,\n",
       " 98.66680568461997,\n",
       " 98.66680527980225,\n",
       " 98.66680487498634,\n",
       " 98.6668044701723,\n",
       " 98.66680406536011,\n",
       " 98.6668036605498,\n",
       " 98.66680325574137,\n",
       " 98.66680285093476,\n",
       " 98.66680244613008,\n",
       " 98.66680204132717,\n",
       " 98.66680163652619,\n",
       " 98.66680123172706,\n",
       " 98.6668008269298,\n",
       " 98.66680042213433,\n",
       " 98.66680001734076,\n",
       " 98.66679961254906,\n",
       " 98.66679920775923,\n",
       " 98.66679880297123,\n",
       " 98.66679839818515,\n",
       " 98.66679799340086,\n",
       " 98.66679758861851,\n",
       " 98.66679718383793,\n",
       " 98.6667967790593,\n",
       " 98.66679637428246,\n",
       " 98.66679596950749,\n",
       " 98.66679556473441,\n",
       " 98.66679515996319,\n",
       " 98.66679475519382,\n",
       " 98.66679435042627,\n",
       " 98.66679394566064,\n",
       " 98.66679354089683,\n",
       " 98.6667931361349,\n",
       " 98.66679273137481,\n",
       " 98.66679232661664,\n",
       " 98.66679192186027,\n",
       " 98.66679151710579,\n",
       " 98.66679111235317,\n",
       " 98.6667907076024,\n",
       " 98.66679030285351,\n",
       " 98.66678989810642,\n",
       " 98.66678949336125,\n",
       " 98.66678908861796,\n",
       " 98.6667886838765,\n",
       " 98.66678827913688,\n",
       " 98.66678787439916,\n",
       " 98.66678746966326,\n",
       " 98.66678706492924,\n",
       " 98.6667866601971,\n",
       " 98.66678625546677,\n",
       " 98.66678585073834,\n",
       " 98.66678544601174,\n",
       " 98.66678504128703,\n",
       " 98.66678463656419,\n",
       " 98.6667842318432,\n",
       " 98.66678382712405,\n",
       " 98.6667834224068,\n",
       " 98.66678301769132,\n",
       " 98.6667826129778,\n",
       " 98.6667822082661,\n",
       " 98.66678180355625,\n",
       " 98.66678139884833,\n",
       " 98.66678099414217,\n",
       " 98.66678058943793,\n",
       " 98.66678018473553,\n",
       " 98.66677978003501,\n",
       " 98.66677937533633,\n",
       " 98.66677897063951,\n",
       " 98.66677856594455,\n",
       " 98.66677816125151,\n",
       " 98.66677775656026,\n",
       " 98.66677735187089,\n",
       " 98.66677694718338,\n",
       " 98.66677654249773,\n",
       " 98.66677613781397,\n",
       " 98.66677573313198,\n",
       " 98.66677532845193,\n",
       " 98.66677492377373,\n",
       " 98.6667745190974,\n",
       " 98.66677411442294,\n",
       " 98.66677370975023,\n",
       " 98.6667733050795,\n",
       " 98.66677290041056,\n",
       " 98.66677249574356,\n",
       " 98.66677209107839,\n",
       " 98.66677168641505,\n",
       " 98.66677128175353,\n",
       " 98.66677087709394,\n",
       " 98.66677047243623,\n",
       " 98.66677006778033,\n",
       " 98.6667696631263,\n",
       " 98.66676925847412,\n",
       " 98.66676885382381,\n",
       " 98.66676844917535,\n",
       " 98.66676804452878,\n",
       " 98.66676763988409,\n",
       " 98.66676723524118,\n",
       " 98.66676683060022,\n",
       " 98.66676642596106,\n",
       " 98.66676602132375,\n",
       " 98.66676561668835,\n",
       " 98.6667652120548,\n",
       " 98.66676480742309,\n",
       " 98.66676440279325,\n",
       " 98.66676399816525,\n",
       " 98.66676359353912,\n",
       " 98.66676318891486,\n",
       " 98.66676278429246,\n",
       " 98.66676237967192,\n",
       " 98.66676197505322,\n",
       " 98.66676157043639,\n",
       " 98.66676116582144,\n",
       " 98.66676076120834,\n",
       " 98.6667603565971,\n",
       " 98.66675995198773,\n",
       " 98.66675954738018,\n",
       " 98.66675914277452,\n",
       " 98.66675873817074,\n",
       " 98.66675833356878,\n",
       " 98.66675792896868,\n",
       " 98.66675752437048,\n",
       " 98.66675711977413,\n",
       " 98.66675671517959,\n",
       " 98.66675631058698,\n",
       " 98.66675590599618,\n",
       " 98.66675550140721,\n",
       " 98.66675509682017,\n",
       " 98.66675469223499,\n",
       " 98.66675428765161,\n",
       " 98.66675388307013,\n",
       " 98.66675347849052,\n",
       " 98.66675307391276,\n",
       " 98.66675266933683,\n",
       " 98.66675226476279,\n",
       " 98.66675186019062,\n",
       " 98.66675145562029,\n",
       " 98.66675105105182,\n",
       " 98.66675064648518,\n",
       " 98.66675024192045,\n",
       " 98.66674983735756,\n",
       " 98.66674943279656,\n",
       " 98.66674902823738,\n",
       " 98.66674862368004,\n",
       " 98.66674821912463,\n",
       " 98.66674781457102,\n",
       " 98.66674741001933,\n",
       " 98.6667470054694,\n",
       " 98.66674660092143,\n",
       " 98.66674619637524,\n",
       " 98.66674579183102,\n",
       " 98.66674538728856,\n",
       " 98.666744982748,\n",
       " 98.66674457820926,\n",
       " 98.6667441736724,\n",
       " 98.66674376913741,\n",
       " 98.66674336460429,\n",
       " 98.66674296007304,\n",
       " 98.66674255554362,\n",
       " 98.66674215101604,\n",
       " 98.66674174649032,\n",
       " 98.66674134196654,\n",
       " 98.66674093744453,\n",
       " 98.66674053292444,\n",
       " 98.66674012840619,\n",
       " 98.66673972388978,\n",
       " 98.66673931937524,\n",
       " 98.66673891486258,\n",
       " 98.66673851035173,\n",
       " 98.66673810584278,\n",
       " 98.66673770133568,\n",
       " 98.66673729683043,\n",
       " 98.66673689232708,\n",
       " 98.66673648782553,\n",
       " 98.66673608332589,\n",
       " 98.66673567882808,\n",
       " 98.66673527433214,\n",
       " 98.66673486983805,\n",
       " 98.66673446534581,\n",
       " 98.6667340608555,\n",
       " 98.66673365636699,\n",
       " 98.66673325188033,\n",
       " 98.66673284739551,\n",
       " 98.6667324429126,\n",
       " 98.66673203843153,\n",
       " 98.66673163395234,\n",
       " 98.66673122947496,\n",
       " 98.66673082499949,\n",
       " 98.66673042052581,\n",
       " 98.66673001605406,\n",
       " 98.66672961158419,\n",
       " 98.66672920711612,\n",
       " 98.66672880264994,\n",
       " 98.66672839818561,\n",
       " 98.66672799372316,\n",
       " 98.66672758926249,\n",
       " 98.66672718480376,\n",
       " 98.66672678034685,\n",
       " 98.66672637589184,\n",
       " 98.66672597143864,\n",
       " 98.6667255669873,\n",
       " 98.66672516253789,\n",
       " 98.6667247580903,\n",
       " 98.66672435364453,\n",
       " 98.66672394920063,\n",
       " 98.6667235447586,\n",
       " 98.66672314031845,\n",
       " 98.66672273588014,\n",
       " 98.66672233144372,\n",
       " 98.66672192700912,\n",
       " 98.66672152257638,\n",
       " 98.66672111814555,\n",
       " 98.66672071371653,\n",
       " 98.66672030928939,\n",
       " 98.6667199048641,\n",
       " 98.66671950044068,\n",
       " 98.66671909601908,\n",
       " 98.66671869159936,\n",
       " 98.66671828718154,\n",
       " 98.66671788276554,\n",
       " 98.66671747835139,\n",
       " 98.66671707393911,\n",
       " 98.66671666952868,\n",
       " 98.66671626512012,\n",
       " 98.66671586071342,\n",
       " 98.66671545630857,\n",
       " 98.6667150519056,\n",
       " 98.66671464750446,\n",
       " 98.66671424310522,\n",
       " 98.66671383870786,\n",
       " 98.6667134343123,\n",
       " 98.66671302991863,\n",
       " 98.66671262552674,\n",
       " 98.6667122211368,\n",
       " 98.66671181674869,\n",
       " 98.66671141236242,\n",
       " 98.66671100797805,\n",
       " 98.66671060359548,\n",
       " 98.66671019921485,\n",
       " 98.666709794836,\n",
       " 98.66670939045903,\n",
       " 98.66670898608399,\n",
       " 98.66670858171074,\n",
       " 98.66670817733933,\n",
       " 98.66670777296981,\n",
       " 98.66670736860219,\n",
       " 98.66670696423635,\n",
       " 98.6667065598724,\n",
       " 98.66670615551033,\n",
       " 98.66670575115009,\n",
       " 98.66670534679176,\n",
       " 98.66670494243522,\n",
       " 98.66670453808061,\n",
       " 98.66670413372776,\n",
       " 98.66670372937689,\n",
       " 98.66670332502778,\n",
       " 98.66670292068059,\n",
       " 98.66670251633522,\n",
       " 98.6667021119917,\n",
       " 98.66670170765009,\n",
       " 98.66670130331028,\n",
       " 98.66670089897242,\n",
       " 98.66670049463633,\n",
       " 98.66670009030211,\n",
       " 98.66669968596977,\n",
       " 98.66669928163928,\n",
       " 98.66669887731065,\n",
       " 98.66669847298388,\n",
       " 98.66669806865899,\n",
       " 98.6666976643359,\n",
       " 98.66669726001476,\n",
       " 98.66669685569538,\n",
       " 98.66669645137793,\n",
       " 98.66669604706232,\n",
       " 98.66669564274855,\n",
       " 98.66669523843663,\n",
       " 98.66669483412662,\n",
       " 98.6666944298184,\n",
       " 98.6666940255121,\n",
       " 98.6666936212076,\n",
       " 98.66669321690503,\n",
       " 98.6666928126043,\n",
       " 98.6666924083054,\n",
       " 98.6666920040084,\n",
       " 98.6666915997132,\n",
       " 98.66669119541987,\n",
       " 98.66669079112839,\n",
       " 98.66669038683884,\n",
       " 98.66668998255108,\n",
       " 98.66668957826518,\n",
       " 98.66668917398118,\n",
       " 98.66668876969902,\n",
       " 98.66668836541874,\n",
       " 98.66668796114028,\n",
       " 98.66668755686365,\n",
       " 98.66668715258893,\n",
       " 98.66668674831605,\n",
       " 98.66668634404503,\n",
       " 98.66668593977592,\n",
       " 98.6666855355086,\n",
       " 98.66668513124316,\n",
       " 98.66668472697957,\n",
       " 98.66668432271788,\n",
       " 98.666683918458,\n",
       " 98.66668351420002,\n",
       " 98.66668310994386,\n",
       " 98.66668270568957,\n",
       " 98.66668230143715,\n",
       " 98.66668189718658,\n",
       " 98.66668149293784,\n",
       " 98.66668108869098,\n",
       " 98.66668068444602,\n",
       " 98.66668028020288,\n",
       " 98.66667987596159,\n",
       " 98.66667947172216,\n",
       " 98.66667906748461,\n",
       " 98.66667866324886,\n",
       " 98.66667825901503,\n",
       " 98.66667785478306,\n",
       " 98.66667745055292,\n",
       " 98.66667704632465,\n",
       " 98.66667664209822,\n",
       " 98.6666762378737,\n",
       " 98.66667583365098,\n",
       " 98.66667542943017,\n",
       " 98.66667502521116,\n",
       " 98.66667462099403,\n",
       " 98.66667421677879,\n",
       " 98.66667381256539,\n",
       " 98.66667340835383,\n",
       " 98.66667300414414,\n",
       " 98.66667259993629,\n",
       " 98.66667219573034,\n",
       " 98.66667179152623,\n",
       " 98.66667138732397,\n",
       " 98.66667098312357,\n",
       " 98.66667057892502,\n",
       " 98.66667017472831,\n",
       " 98.6666697705335,\n",
       " 98.66666936634056,\n",
       " 98.66666896214943,\n",
       " 98.66666855796021,\n",
       " 98.6666681537728,\n",
       " 98.66666774958723,\n",
       " 98.66666734540357,\n",
       " 98.66666694122176,\n",
       " 98.6666665370418,\n",
       " 98.66666613286371,\n",
       " 98.66666572868745,\n",
       " 98.66666532451305,\n",
       " 98.66666492034054,\n",
       " 98.66666451616987,\n",
       " 98.66666411200107,\n",
       " 98.6666637078341,\n",
       " 98.666663303669,\n",
       " 98.66666289950574,\n",
       " 98.66666249534437,\n",
       " 98.66666209118486,\n",
       " 98.66666168702719,\n",
       " 98.66666128287133,\n",
       " 98.66666087871744,\n",
       " 98.66666047456532,\n",
       " 98.66666007041512,\n",
       " 98.66665966626672,\n",
       " 98.66665926212018,\n",
       " 98.66665885797553,\n",
       " 98.66665845383274,\n",
       " 98.6666580496918,\n",
       " 98.6666576455527,\n",
       " 98.66665724141544,\n",
       " 98.6666568372801,\n",
       " 98.6666564331466,\n",
       " 98.6666560290149,\n",
       " 98.66665562488511,\n",
       " 98.66665522075718,\n",
       " 98.66665481663112,\n",
       " 98.66665441250689,\n",
       " 98.66665400838451,\n",
       " 98.66665360426398,\n",
       " 98.66665320014539,\n",
       " 98.66665279602854,\n",
       " 98.66665239191363,\n",
       " 98.66665198780052,\n",
       " 98.66665158368932,\n",
       " 98.66665117957994,\n",
       " 98.66665077547245,\n",
       " 98.6666503713668,\n",
       " 98.66664996726297,\n",
       " 98.66664956316109,\n",
       " 98.666649159061,\n",
       " 98.66664875496276,\n",
       " 98.6666483508664,\n",
       " 98.6666479467719,\n",
       " 98.66664754267929,\n",
       " 98.66664713858847,\n",
       " 98.66664673449954,\n",
       " 98.66664633041249,\n",
       " 98.66664592632726,\n",
       " 98.66664552224391,\n",
       " 98.6666451181624,\n",
       " 98.66664471408275,\n",
       " 98.66664431000497,\n",
       " 98.66664390592904,\n",
       " 98.66664350185498,\n",
       " 98.66664309778272,\n",
       " 98.66664269371242,\n",
       " 98.6666422896439,\n",
       " 98.66664188557728,\n",
       " 98.66664148151249,\n",
       " 98.66664107744957,\n",
       " 98.6666406733885,\n",
       " 98.66664026932929,\n",
       " 98.66663986527195,\n",
       " 98.66663946121642,\n",
       " 98.6666390571628,\n",
       " 98.66663865311102,\n",
       " 98.6666382490611,\n",
       " 98.66663784501304,\n",
       " 98.66663744096682,\n",
       " 98.66663703692248,\n",
       " 98.66663663287994,\n",
       " 98.66663622883934,\n",
       " 98.66663582480058,\n",
       " 98.66663542076364,\n",
       " 98.66663501672856,\n",
       " 98.66663461269536,\n",
       " 98.66663420866404,\n",
       " 98.66663380463451,\n",
       " 98.66663340060686,\n",
       " 98.6666329965811,\n",
       " 98.66663259255719,\n",
       " 98.66663218853513,\n",
       " 98.66663178451492,\n",
       " 98.66663138049655,\n",
       " 98.66663097648009,\n",
       " 98.66663057246544,\n",
       " 98.66663016845267,\n",
       " 98.66662976444172,\n",
       " 98.66662936043268,\n",
       " 98.66662895642546,\n",
       " 98.66662855242018,\n",
       " 98.66662814841663,\n",
       " 98.66662774441501,\n",
       " 98.66662734041523,\n",
       " 98.6666269364173,\n",
       " 98.66662653242122,\n",
       " 98.66662612842703,\n",
       " 98.66662572443468,\n",
       " 98.66662532044424,\n",
       " 98.66662491645553,\n",
       " 98.66662451246881,\n",
       " 98.66662410848389,\n",
       " 98.66662370450082,\n",
       " 98.6666233005196,\n",
       " 98.66662289654023,\n",
       " 98.66662249256277,\n",
       " 98.66662208858713,\n",
       " 98.66662168461336,\n",
       " 98.66662128064144,\n",
       " 98.66662087667133,\n",
       " 98.66662047270313,\n",
       " 98.66662006873683,\n",
       " 98.6666196647723,\n",
       " 98.66661926080968,\n",
       " 98.66661885684888,\n",
       " 98.66661845288998,\n",
       " 98.6666180489329,\n",
       " 98.66661764497769,\n",
       " 98.66661724102435,\n",
       " 98.66661683707285,\n",
       " 98.66661643312327,\n",
       " 98.66661602917546,\n",
       " 98.66661562522953,\n",
       " 98.6666152212855,\n",
       " 98.66661481734324,\n",
       " 98.6666144134029,\n",
       " 98.66661400946441,\n",
       " 98.66661360552777,\n",
       " 98.66661320159298,\n",
       " 98.66661279766006,\n",
       " 98.666612393729,\n",
       " 98.66661198979978,\n",
       " 98.66661158587239,\n",
       " 98.66661118194692,\n",
       " 98.66661077802328,\n",
       " 98.66661037410148,\n",
       " 98.66660997018155,\n",
       " 98.6666095662635,\n",
       " 98.66660916234727,\n",
       " 98.66660875843297,\n",
       " 98.66660835452042,\n",
       " 98.66660795060977,\n",
       " 98.66660754670099,\n",
       " 98.66660714279409,\n",
       " 98.66660673888899,\n",
       " 98.6666063349858,\n",
       " 98.66660593108442,\n",
       " 98.66660552718491,\n",
       " 98.66660512328727,\n",
       " 98.66660471939144,\n",
       " 98.66660431549757,\n",
       " 98.6666039116055,\n",
       " 98.66660350771528,\n",
       " 98.66660310382689,\n",
       " 98.66660269994036,\n",
       " 98.66660229605573,\n",
       " 98.66660189217295,\n",
       " 98.66660148829202,\n",
       " 98.66660108441292,\n",
       " 98.66660068053568,\n",
       " 98.66660027666038,\n",
       " 98.66659987278682,\n",
       " 98.66659946891518,\n",
       " 98.66659906504535,\n",
       " 98.66659866117743,\n",
       " 98.66659825731139,\n",
       " 98.66659785344714,\n",
       " 98.66659744958477,\n",
       " 98.66659704572425,\n",
       " 98.66659664186557,\n",
       " 98.66659623800878,\n",
       " 98.66659583415384,\n",
       " 98.66659543030073,\n",
       " 98.66659502644953,\n",
       " 98.66659462260014,\n",
       " 98.66659421875262,\n",
       " 98.66659381490697,\n",
       " 98.66659341106319,\n",
       " 98.66659300722124,\n",
       " 98.66659260338115,\n",
       " 98.66659219954289,\n",
       " 98.66659179570651,\n",
       " 98.66659139187198,\n",
       " 98.66659098803929,\n",
       " 98.66659058420849,\n",
       " 98.66659018037953,\n",
       " 98.66658977655244,\n",
       " 98.66658937272723,\n",
       " 98.66658896890384,\n",
       " 98.66658856508228,\n",
       " 98.66658816126264,\n",
       " 98.6665877574448,\n",
       " 98.66658735362883,\n",
       " 98.66658694981473,\n",
       " 98.66658654600249,\n",
       " 98.66658614219207,\n",
       " 98.66658573838355,\n",
       " 98.66658533457691,\n",
       " 98.66658493077207,\n",
       " 98.66658452696913,\n",
       " 98.66658412316801,\n",
       " 98.66658371936873,\n",
       " 98.66658331557133,\n",
       " 98.66658291177576,\n",
       " 98.66658250798213,\n",
       " 98.6665821041903,\n",
       " 98.66658170040031,\n",
       " 98.66658129661218,\n",
       " 98.66658089282592,\n",
       " 98.66658048904151,\n",
       " 98.66658008525897,\n",
       " 98.66657968147827,\n",
       " 98.66657927769947,\n",
       " 98.66657887392248,\n",
       " 98.66657847014736,\n",
       " 98.66657806637407,\n",
       " 98.66657766260268,\n",
       " 98.66657725883309,\n",
       " 98.66657685506543,\n",
       " 98.66657645129958,\n",
       " 98.66657604753557,\n",
       " 98.66657564377343,\n",
       " 98.66657524001319,\n",
       " 98.66657483625477,\n",
       " 98.66657443249821,\n",
       " 98.6665740287435,\n",
       " 98.66657362499063,\n",
       " 98.66657322123966,\n",
       " 98.6665728174905,\n",
       " 98.66657241374324,\n",
       " 98.6665720099978,\n",
       " 98.6665716062542,\n",
       " 98.66657120251251,\n",
       " 98.66657079877264,\n",
       " 98.66657039503464,\n",
       " 98.6665699912985,\n",
       " 98.66656958756421,\n",
       " 98.6665691838318,\n",
       " 98.66656878010122,\n",
       " 98.66656837637248,\n",
       " 98.66656797264564,\n",
       " 98.66656756892058,\n",
       " 98.66656716519745,\n",
       " 98.66656676147615,\n",
       " 98.6665663577567,\n",
       " 98.6665659540391,\n",
       " 98.66656555032337,\n",
       " 98.66656514660949,\n",
       " 98.66656474289748,\n",
       " 98.66656433918733,\n",
       " 98.666563935479,\n",
       " 98.66656353177254,\n",
       " 98.66656312806796,\n",
       " 98.6665627243652,\n",
       " 98.66656232066438,\n",
       " 98.6665619169653,\n",
       " 98.66656151326815,\n",
       " 98.66656110957283,\n",
       " 98.66656070587933,\n",
       " 98.66656030218776,\n",
       " 98.66655989849798,\n",
       " 98.66655949481012,\n",
       " 98.66655909112407,\n",
       " 98.6665586874399,\n",
       " 98.66655828375754,\n",
       " 98.66655788007708,\n",
       " 98.66655747639847,\n",
       " 98.66655707272167,\n",
       " 98.6665566690468,\n",
       " 98.66655626537376,\n",
       " 98.66655586170253,\n",
       " 98.6665554580332,\n",
       " 98.66655505436576,\n",
       " 98.66655465070008,\n",
       " 98.66655424703632,\n",
       " 98.66655384337444,\n",
       " 98.66655343971436,\n",
       " 98.66655303605614,\n",
       " 98.66655263239981,\n",
       " 98.66655222874533,\n",
       " 98.66655182509265,\n",
       " 98.66655142144188,\n",
       " 98.66655101779294,\n",
       " 98.66655061414592,\n",
       " 98.66655021050066,\n",
       " 98.66654980685732,\n",
       " 98.66654940321584,\n",
       " 98.66654899957615,\n",
       " 98.66654859593837,\n",
       " 98.66654819230244,\n",
       " 98.66654778866834,\n",
       " 98.66654738503613,\n",
       " 98.66654698140574,\n",
       " 98.66654657777721,\n",
       " 98.66654617415061,\n",
       " 98.66654577052577,\n",
       " 98.66654536690285,\n",
       " 98.66654496328174,\n",
       " 98.66654455966247,\n",
       " 98.6665441560451,\n",
       " 98.66654375242959,\n",
       " 98.6665433488159,\n",
       " 98.6665429452041,\n",
       " 98.66654254159415,\n",
       " 98.66654213798601,\n",
       " 98.66654173437978,\n",
       " 98.66654133077536,\n",
       " 98.66654092717282,\n",
       " 98.66654052357214,\n",
       " 98.66654011997335,\n",
       " 98.66653971637632,\n",
       " 98.66653931278124,\n",
       " 98.66653890918793,\n",
       " 98.66653850559655,\n",
       " 98.66653810200701,\n",
       " 98.66653769841932,\n",
       " 98.66653729483346,\n",
       " 98.66653689124948,\n",
       " 98.66653648766734,\n",
       " 98.66653608408704,\n",
       " 98.66653568050863,\n",
       " 98.66653527693208,\n",
       " 98.66653487335736,\n",
       " 98.66653446978451,\n",
       " 98.66653406621349,\n",
       " 98.66653366264435,\n",
       " 98.66653325907708,\n",
       " 98.66653285551166,\n",
       " 98.66653245194802,\n",
       " 98.66653204838632,\n",
       " 98.66653164482646,\n",
       " 98.66653124126844,\n",
       " 98.66653083771226,\n",
       " 98.66653043415792,\n",
       " 98.66653003060556,\n",
       " 98.66652962705491,\n",
       " 98.66652922350622,\n",
       " 98.6665288199593,\n",
       " 98.66652841641428,\n",
       " 98.66652801287113,\n",
       " 98.66652760932979,\n",
       " 98.66652720579033,\n",
       " 98.66652680225272,\n",
       " 98.66652639871697,\n",
       " 98.66652599518304,\n",
       " 98.666525591651,\n",
       " 98.66652518812086,\n",
       " 98.6665247845925,\n",
       " 98.66652438106603,\n",
       " 98.6665239775414,\n",
       " 98.66652357401863,\n",
       " 98.6665231704977,\n",
       " 98.66652276697866,\n",
       " 98.66652236346143,\n",
       " 98.6665219599461,\n",
       " 98.66652155643258,\n",
       " 98.66652115292092,\n",
       " 98.66652074941119,\n",
       " 98.66652034590322,\n",
       " 98.66651994239717,\n",
       " 98.66651953889296,\n",
       " 98.66651913539059,\n",
       " 98.66651873189005,\n",
       " 98.66651832839139,\n",
       " 98.66651792489462,\n",
       " 98.66651752139967,\n",
       " 98.66651711790658,\n",
       " 98.66651671441534,\n",
       " 98.66651631092594,\n",
       " 98.66651590743841,\n",
       " 98.66651550395275,\n",
       " 98.66651510046891,\n",
       " 98.66651469698695,\n",
       " 98.66651429350686,\n",
       " 98.66651389002864,\n",
       " 98.66651348655228,\n",
       " 98.66651308307767,\n",
       " 98.666512679605,\n",
       " 98.66651227613417,\n",
       " 98.6665118726652,\n",
       " 98.66651146919806,\n",
       " 98.66651106573278,\n",
       " 98.66651066226937,\n",
       " 98.6665102588078,\n",
       " 98.6665098553481,\n",
       " 98.66650945189028,\n",
       " 98.66650904843425,\n",
       " 98.66650864498014,\n",
       " 98.6665082415278,\n",
       " 98.66650783807738,\n",
       " 98.66650743462881,\n",
       " 98.66650703118212,\n",
       " 98.66650662773722,\n",
       " 98.6665062242942,\n",
       " 98.66650582085303,\n",
       " 98.66650541741375,\n",
       " 98.66650501397632,\n",
       " 98.66650461054073,\n",
       " 98.66650420710695,\n",
       " 98.66650380367508,\n",
       " 98.66650340024505,\n",
       " 98.66650299681687,\n",
       " 98.66650259339055,\n",
       " 98.66650218996605,\n",
       " 98.66650178654344,\n",
       " 98.66650138312272,\n",
       " 98.66650097970378,\n",
       " 98.66650057628672,\n",
       " 98.66650017287155,\n",
       " 98.66649976945823,\n",
       " 98.66649936604674,\n",
       " 98.66649896263709,\n",
       " 98.6664985592293,\n",
       " 98.66649815582342,\n",
       " 98.66649775241933,\n",
       " 98.6664973490171,\n",
       " 98.66649694561679,\n",
       " 98.66649654221821,\n",
       " 98.66649613882157,\n",
       " 98.66649573542679,\n",
       " 98.66649533203386,\n",
       " 98.66649492864276,\n",
       " 98.66649452525351,\n",
       " 98.66649412186614,\n",
       " 98.66649371848065,\n",
       " 98.66649331509696,\n",
       " 98.66649291171514,\n",
       " 98.6664925083352,\n",
       " 98.66649210495704,\n",
       " 98.66649170158084,\n",
       " 98.66649129820645,\n",
       " 98.66649089483383,\n",
       " 98.66649049146318,\n",
       " 98.66649008809433,\n",
       " 98.66648968472737,\n",
       " 98.66648928136223,\n",
       " 98.66648887799897,\n",
       " 98.66648847463752,\n",
       " 98.66648807127797,\n",
       " 98.66648766792028,\n",
       " 98.66648726456441,\n",
       " 98.66648686121042,\n",
       " 98.66648645785826,\n",
       " 98.66648605450794,\n",
       " 98.6664856511595,\n",
       " 98.66648524781293,\n",
       " 98.66648484446821,\n",
       " 98.66648444112533,\n",
       " 98.66648403778433,\n",
       " 98.66648363444514,\n",
       " 98.66648323110783,\n",
       " 98.66648282777237,\n",
       " 98.66648242443874,\n",
       " 98.66648202110703,\n",
       " 98.6664816177771,\n",
       " 98.66648121444905,\n",
       " 98.66648081112285,\n",
       " 98.66648040779855,\n",
       " 98.66648000447606,\n",
       " 98.66647960115542,\n",
       " 98.6664791978367,\n",
       " 98.66647879451973,\n",
       " 98.66647839120463,\n",
       " 98.66647798789143,\n",
       " 98.66647758458012,\n",
       " 98.66647718127061,\n",
       " 98.66647677796293,\n",
       " 98.66647637465712,\n",
       " 98.66647597135315,\n",
       " 98.66647556805108,\n",
       " 98.66647516475084,\n",
       " 98.66647476145246,\n",
       " 98.66647435815597,\n",
       " 98.66647395486129,\n",
       " 98.66647355156847,\n",
       " 98.66647314827749,\n",
       " 98.6664727449884,\n",
       " 98.66647234170115,\n",
       " 98.66647193841575,\n",
       " 98.66647153513219,\n",
       " 98.66647113185049,\n",
       " 98.66647072857063,\n",
       " 98.66647032529266,\n",
       " 98.66646992201653,\n",
       " 98.66646951874223,\n",
       " 98.66646911546984,\n",
       " 98.66646871219923,\n",
       " 98.66646830893053,\n",
       " 98.66646790566367,\n",
       " 98.6664675023986,\n",
       " 98.66646709913547,\n",
       " 98.66646669587416,\n",
       " 98.66646629261473,\n",
       " 98.66646588935713,\n",
       " 98.66646548610137,\n",
       " 98.66646508284747,\n",
       " 98.66646467959548,\n",
       " 98.6664642763453,\n",
       " 98.66646387309696,\n",
       " 98.66646346985048,\n",
       " 98.66646306660587,\n",
       " 98.66646266336309,\n",
       " 98.66646226012219,\n",
       " 98.6664618568831,\n",
       " 98.6664614536459,\n",
       " 98.66646105041059,\n",
       " 98.66646064717706,\n",
       " 98.66646024394542,\n",
       " 98.66645984071562,\n",
       " 98.66645943748769,\n",
       " 98.66645903426158,\n",
       " 98.66645863103737,\n",
       " 98.66645822781501,\n",
       " 98.66645782459447,\n",
       " 98.6664574213758,\n",
       " 98.666457018159,\n",
       " 98.666456614944,\n",
       " 98.66645621173092,\n",
       " 98.66645580851966,\n",
       " 98.66645540531026,\n",
       " 98.66645500210271,\n",
       " 98.66645459889699,\n",
       " 98.66645419569318,\n",
       " 98.6664537924912,\n",
       " 98.66645338929105,\n",
       " 98.66645298609275,\n",
       " 98.66645258289634,\n",
       " 98.66645217970179,\n",
       " 98.66645177650905,\n",
       " 98.66645137331815,\n",
       " 98.66645097012919,\n",
       " 98.66645056694202,\n",
       " 98.6664501637567,\n",
       " 98.66644976057327,\n",
       " 98.66644935739163,\n",
       " 98.66644895421192,\n",
       " 98.66644855103401,\n",
       " 98.66644814785799,\n",
       " 98.66644774468381,\n",
       " 98.66644734151146,\n",
       " 98.66644693834097,\n",
       " 98.66644653517234,\n",
       " 98.66644613200555,\n",
       " ...]"
      ]
     },
     "execution_count": 13,
     "metadata": {},
     "output_type": "execute_result"
    }
   ],
   "source": [
    "model.history"
   ]
  },
  {
   "cell_type": "code",
   "execution_count": 15,
   "metadata": {},
   "outputs": [
    {
     "data": {
      "image/png": "[encoded data removed]",
      "text/plain": [
       "<Figure size 2000x600 with 1 Axes>"
      ]
     },
     "metadata": {},
     "output_type": "display_data"
    }
   ],
   "source": [
    "\n",
    "# Plot the cost history\n",
    "plt.plot(range(1, model.max_iterations + 1)[:50], model.history[:50], color='blue')\n",
    "plt.rcParams[\"figure.figsize\"] = (20, 6)\n",
    "plt.grid()\n",
    "plt.xlabel('Number of iterations')\n",
    "plt.ylabel('Cost (J)')\n",
    "plt.title('Convergence of gradient descent')\n",
    "plt.show()"
   ]
  },
  {
   "cell_type": "code",
   "execution_count": 17,
   "metadata": {},
   "outputs": [],
   "source": [
    "from sklearn.preprocessing import StandardScaler\n",
    "\n",
    "scaled_data = StandardScaler().fit_transform(X)"
   ]
  },
  {
   "cell_type": "code",
   "execution_count": 18,
   "metadata": {},
   "outputs": [
    {
     "data": {
      "text/plain": [
       "array([[-2.27804526],\n",
       "       [ 0.4518826 ],\n",
       "       [ 1.50911988],\n",
       "       [-0.32454128],\n",
       "       [ 1.28509037],\n",
       "       [ 0.67568173],\n",
       "       [ 0.2933656 ],\n",
       "       [-1.3912398 ],\n",
       "       [-0.24242579],\n",
       "       [ 0.33749148],\n",
       "       [-0.59276732],\n",
       "       [ 0.57254147],\n",
       "       [-0.75659079],\n",
       "       [ 1.0705083 ],\n",
       "       [ 0.8824727 ],\n",
       "       [-0.13141931],\n",
       "       [-0.68833799],\n",
       "       [ 1.34825138],\n",
       "       [-0.56681587],\n",
       "       [-1.4542221 ]])"
      ]
     },
     "execution_count": 18,
     "metadata": {},
     "output_type": "execute_result"
    }
   ],
   "source": [
    "scaled_data"
   ]
  },
  {
   "cell_type": "code",
   "execution_count": 20,
   "metadata": {},
   "outputs": [
    {
     "data": {
      "text/plain": [
       "(20, 1)"
      ]
     },
     "execution_count": 20,
     "metadata": {},
     "output_type": "execute_result"
    }
   ],
   "source": [
    "scaled_data.shape"
   ]
  },
  {
   "cell_type": "code",
   "execution_count": 29,
   "metadata": {},
   "outputs": [
    {
     "data": {
      "text/plain": [
       "0.5462335931125548"
      ]
     },
     "execution_count": 29,
     "metadata": {},
     "output_type": "execute_result"
    }
   ],
   "source": [
    "model1 = LinearRegression(max_iterations=1000000)\n",
    "\n",
    "model1.fit(X=scaled_data, Y=Y)\n",
    "model1.score(X=scaled_data, Y=Y)"
   ]
  },
  {
   "cell_type": "code",
   "execution_count": 31,
   "metadata": {},
   "outputs": [
    {
     "data": {
      "image/png": "[encoded data removed]",
      "text/plain": [
       "<Figure size 2000x600 with 1 Axes>"
      ]
     },
     "metadata": {},
     "output_type": "display_data"
    }
   ],
   "source": [
    "plt.plot(range(1, model1.max_iterations + 1)[:100000], model1.history[:100000], color='blue')\n",
    "plt.rcParams[\"figure.figsize\"] = (20, 6)\n",
    "plt.grid()\n",
    "plt.xlabel('Number of iterations')\n",
    "plt.ylabel('Cost (J)')\n",
    "plt.title('Convergence of gradient descent')\n",
    "plt.show()"
   ]
  },
  {
   "cell_type": "code",
   "execution_count": 33,
   "metadata": {},
   "outputs": [
    {
     "data": {
      "text/plain": [
       "(array([10.89343057]), 69.43422618042895)"
      ]
     },
     "execution_count": 33,
     "metadata": {},
     "output_type": "execute_result"
    }
   ],
   "source": [
    "model1.coef, model1.intercept"
   ]
  },
  {
   "cell_type": "code",
   "execution_count": 34,
   "metadata": {},
   "outputs": [
    {
     "data": {
      "text/plain": [
       "(array([1.39080275]), -0.018971053230349023)"
      ]
     },
     "execution_count": 34,
     "metadata": {},
     "output_type": "execute_result"
    }
   ],
   "source": [
    "model.coef, model.intercept"
   ]
  },
  {
   "cell_type": "code",
   "execution_count": 35,
   "metadata": {},
   "outputs": [],
   "source": [
    "array = np.array([-1, -3, -6, 7, 4])"
   ]
  },
  {
   "cell_type": "code",
   "execution_count": 36,
   "metadata": {},
   "outputs": [
    {
     "data": {
      "text/plain": [
       "array([-1, -1, -1,  1,  1])"
      ]
     },
     "execution_count": 36,
     "metadata": {},
     "output_type": "execute_result"
    }
   ],
   "source": [
    "np.sign(array)"
   ]
  },
  {
   "cell_type": "code",
   "execution_count": 38,
   "metadata": {},
   "outputs": [
    {
     "data": {
      "text/plain": [
       "array([1.])"
      ]
     },
     "execution_count": 38,
     "metadata": {},
     "output_type": "execute_result"
    }
   ],
   "source": [
    "np.sign(model1.coef)"
   ]
  },
  {
   "cell_type": "code",
   "execution_count": null,
   "metadata": {},
   "outputs": [],
   "source": []
  }
 ],
 "metadata": {
  "kernelspec": {
   "display_name": "base",
   "language": "python",
   "name": "python3"
  },
  "language_info": {
   "codemirror_mode": {
    "name": "ipython",
    "version": 3
   },
   "file_extension": ".py",
   "mimetype": "text/x-python",
   "name": "python",
   "nbconvert_exporter": "python",
   "pygments_lexer": "ipython3",
   "version": "3.11.4"
  }
 },
 "nbformat": 4,
 "nbformat_minor": 2
}
