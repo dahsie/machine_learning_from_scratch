{
 "cells": [
  {
   "cell_type": "code",
   "execution_count": 1,
   "metadata": {},
   "outputs": [],
   "source": [
    "import numpy as np\n"
   ]
  },
  {
   "cell_type": "code",
   "execution_count": 2,
   "metadata": {},
   "outputs": [],
   "source": [
    "data = np.array([[ 1., -1.,  2., 1],\n",
    "                 [ 2.,  0.,  0., 1],\n",
    "                 [ 0.,  1., -1., 1],\n",
    "                 [ -1.,  1., 3., 1],\n",
    "                 [ 3.,  1., 1., 1]])"
   ]
  },
  {
   "cell_type": "code",
   "execution_count": 3,
   "metadata": {},
   "outputs": [],
   "source": [
    "class CustomRobustScaler:\n",
    "\n",
    "    def __init__(self):\n",
    "        pass\n",
    "\n",
    "    def fit_transform(self,data: np.ndarray) -> np.ndarray:\n",
    "        median = np.median(a= data, axis = 0) # compute the min\n",
    "        first_quartile = np.percentile(a= data, axis=0, q=25)# compute the max\n",
    "        three_quartile = np.percentile(a= data, axis=0, q=75)# compute the max\n",
    "        diff = three_quartile - first_quartile\n",
    "        mask = diff !=0 # compute the denominator\n",
    "\n",
    "        scaled_data = np.full_like(data, fill_value=0) \n",
    "\n",
    "        scaled_data[:, mask] = (data[:, mask] -median[mask]) / diff[mask]\n",
    "\n",
    "        return scaled_data"
   ]
  },
  {
   "cell_type": "code",
   "execution_count": 5,
   "metadata": {},
   "outputs": [
    {
     "data": {
      "text/plain": [
       "array([[ 0. , -2. ,  0.5,  0. ],\n",
       "       [ 0.5, -1. , -0.5,  0. ],\n",
       "       [-0.5,  0. , -1. ,  0. ],\n",
       "       [-1. ,  0. ,  1. ,  0. ],\n",
       "       [ 1. ,  0. ,  0. ,  0. ]])"
      ]
     },
     "execution_count": 5,
     "metadata": {},
     "output_type": "execute_result"
    }
   ],
   "source": [
    "scaler = CustomRobustScaler()\n",
    "scaled_data = scaler.fit_transform(data)\n",
    "scaled_data"
   ]
  },
  {
   "cell_type": "code",
   "execution_count": 6,
   "metadata": {},
   "outputs": [
    {
     "data": {
      "text/plain": [
       "array([[ 0. , -2. ,  0.5,  0. ],\n",
       "       [ 0.5, -1. , -0.5,  0. ],\n",
       "       [-0.5,  0. , -1. ,  0. ],\n",
       "       [-1. ,  0. ,  1. ,  0. ],\n",
       "       [ 1. ,  0. ,  0. ,  0. ]])"
      ]
     },
     "execution_count": 6,
     "metadata": {},
     "output_type": "execute_result"
    }
   ],
   "source": [
    "from sklearn.preprocessing import RobustScaler\n",
    "\n",
    "rub_scaler = RobustScaler()\n",
    "\n",
    "scaled_data1 = rub_scaler.fit_transform(data)\n",
    "scaled_data1"
   ]
  },
  {
   "cell_type": "code",
   "execution_count": 7,
   "metadata": {},
   "outputs": [
    {
     "data": {
      "text/plain": [
       "array([[ True,  True,  True,  True],\n",
       "       [ True,  True,  True,  True],\n",
       "       [ True,  True,  True,  True],\n",
       "       [ True,  True,  True,  True],\n",
       "       [ True,  True,  True,  True]])"
      ]
     },
     "execution_count": 7,
     "metadata": {},
     "output_type": "execute_result"
    }
   ],
   "source": [
    "scaled_data1 == scaled_data"
   ]
  },
  {
   "cell_type": "code",
   "execution_count": null,
   "metadata": {},
   "outputs": [],
   "source": []
  }
 ],
 "metadata": {
  "kernelspec": {
   "display_name": "base",
   "language": "python",
   "name": "python3"
  },
  "language_info": {
   "codemirror_mode": {
    "name": "ipython",
    "version": 3
   },
   "file_extension": ".py",
   "mimetype": "text/x-python",
   "name": "python",
   "nbconvert_exporter": "python",
   "pygments_lexer": "ipython3",
   "version": "3.11.4"
  }
 },
 "nbformat": 4,
 "nbformat_minor": 2
}
