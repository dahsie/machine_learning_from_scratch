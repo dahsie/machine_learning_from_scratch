{
 "cells": [
  {
   "cell_type": "code",
   "execution_count": 20,
   "metadata": {},
   "outputs": [],
   "source": [
    "import numpy as np\n",
    "import pandas as pd\n",
    "from typing import Dict, List, Tuple"
   ]
  },
  {
   "cell_type": "code",
   "execution_count": 69,
   "metadata": {},
   "outputs": [],
   "source": [
    "class CustomOneHotEncoder:\n",
    "\n",
    "    def __init__(self):\n",
    "        self.cat_to_numb: Dict[str,List[int]] = {}\n",
    "        self.numb_to_cat: Dict[Tuple[int],str] = {}\n",
    "        self.categories: List[str] = []\n",
    "\n",
    "    def __categories(self, data: np.ndarray) -> List:\n",
    "        \n",
    "        for index in range(data.shape[1]):\n",
    "            self.categories += list(np.unique(data[:,index]))\n",
    "        \n",
    "    \n",
    "    def __map_cat2numb(self) -> Dict:\n",
    "\n",
    "        n = len(self.categories)\n",
    "        for index, item in enumerate(self.categories) :\n",
    "            don = [0 for _ in range(n)]\n",
    "            don[index] = 1\n",
    "            self.cat_to_numb[item] = don\n",
    "        \n",
    "\n",
    "    def __map_num2cat(self):\n",
    "        if self.category_to_number:\n",
    "            self.number_category = {tuple(value):key for key, value in self.category_to_number.items()}\n",
    "    \n",
    "    def fit_transform(self, data: np.ndarray):\n",
    "        self.__categories(data)\n",
    "        self.__map_cat2numb()\n",
    "        \n",
    "        n, p= data.shape\n",
    "        k= len(self.categories) \n",
    "\n",
    "        array = np.empty((0, k))\n",
    "        \n",
    "        for line in range(n):\n",
    "            arr = np.zeros((1, k))\n",
    "            for col in range(p) :\n",
    "                arr += np.array(self.cat_to_numb[data[line, col]])\n",
    "            array = np.concatenate((array, arr), axis = 0)\n",
    "        return array\n",
    "        # mapped_data = np.array([[self.cat_to_numb[item] for item in row] for row in data], dtype=object)\n",
    "        # return mapped_data.sum(axis=1)\n",
    "    \n",
    "    def inverse_transforme(self):\n",
    "        pass\n",
    "        \n",
    "    \n",
    "        "
   ]
  },
  {
   "cell_type": "code",
   "execution_count": 70,
   "metadata": {},
   "outputs": [
    {
     "data": {
      "text/plain": [
       "array([['male', 'good'],\n",
       "       ['female', 'nice'],\n",
       "       ['female', 'good'],\n",
       "       ['male', 'great'],\n",
       "       ['female', 'nice']], dtype=object)"
      ]
     },
     "execution_count": 70,
     "metadata": {},
     "output_type": "execute_result"
    }
   ],
   "source": [
    "data = {'Employee id': [10, 20, 15, 25, 30],\n",
    "        'Gender': ['Male', 'Female', 'Female', 'Male', 'Female'],\n",
    "        'Remarks': ['Good', 'Nice', 'Good', 'Great', 'Nice'],\n",
    "        }\n",
    "#Converting into a Pandas dataframe\n",
    "df = pd.DataFrame(data)\n",
    "\n",
    "array = df[['Gender', 'Remarks']].map(lambda x : x.lower()).to_numpy()\n",
    "array"
   ]
  },
  {
   "cell_type": "code",
   "execution_count": 71,
   "metadata": {},
   "outputs": [
    {
     "data": {
      "text/plain": [
       "array([[0., 1., 1., 0., 0.],\n",
       "       [1., 0., 0., 0., 1.],\n",
       "       [1., 0., 1., 0., 0.],\n",
       "       [0., 1., 0., 1., 0.],\n",
       "       [1., 0., 0., 0., 1.]])"
      ]
     },
     "execution_count": 71,
     "metadata": {},
     "output_type": "execute_result"
    }
   ],
   "source": [
    "cust_encoder = CustomOneHotEncoder()\n",
    "\n",
    "encoded_data = cust_encoder.fit_transform(array)\n",
    "encoded_data"
   ]
  },
  {
   "cell_type": "code",
   "execution_count": 47,
   "metadata": {},
   "outputs": [
    {
     "name": "stdout",
     "output_type": "stream",
     "text": [
      "[[0. 1. 1. 0. 0.]\n",
      " [1. 0. 0. 0. 1.]\n",
      " [1. 0. 1. 0. 0.]\n",
      " [0. 1. 0. 1. 0.]\n",
      " [1. 0. 0. 0. 1.]]\n"
     ]
    }
   ],
   "source": [
    "from sklearn.preprocessing import OneHotEncoder\n",
    "\n",
    "encoder = OneHotEncoder(sparse_output=False)\n",
    "\n",
    "encoded_data1 = encoder.fit_transform(array)\n",
    "print(encoded_data1)"
   ]
  },
  {
   "cell_type": "code",
   "execution_count": 50,
   "metadata": {},
   "outputs": [
    {
     "data": {
      "text/plain": [
       "True"
      ]
     },
     "execution_count": 50,
     "metadata": {},
     "output_type": "execute_result"
    }
   ],
   "source": [
    "np.all(encoded_data1) == np.all(encoded_data)"
   ]
  },
  {
   "cell_type": "code",
   "execution_count": null,
   "metadata": {},
   "outputs": [],
   "source": []
  }
 ],
 "metadata": {
  "kernelspec": {
   "display_name": "base",
   "language": "python",
   "name": "python3"
  },
  "language_info": {
   "codemirror_mode": {
    "name": "ipython",
    "version": 3
   },
   "file_extension": ".py",
   "mimetype": "text/x-python",
   "name": "python",
   "nbconvert_exporter": "python",
   "pygments_lexer": "ipython3",
   "version": "3.11.4"
  }
 },
 "nbformat": 4,
 "nbformat_minor": 2
}
