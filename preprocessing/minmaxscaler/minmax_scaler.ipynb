{
 "cells": [
  {
   "cell_type": "code",
   "execution_count": 1,
   "metadata": {},
   "outputs": [],
   "source": [
    "import numpy as np"
   ]
  },
  {
   "cell_type": "code",
   "execution_count": 2,
   "metadata": {},
   "outputs": [],
   "source": [
    "data = np.array([[ 1., -1.,  2., 1],\n",
    "                 [ 2.,  0.,  0., 1],\n",
    "                 [ 0.,  1., -1., 1],\n",
    "                 [ -1.,  1., 3., 1],\n",
    "                 [ 3.,  1., 1., 1]])"
   ]
  },
  {
   "cell_type": "code",
   "execution_count": 3,
   "metadata": {},
   "outputs": [],
   "source": [
    "class CustomMinMaxScaler:\n",
    "\n",
    "    def __init__(self):\n",
    "        pass\n",
    "\n",
    "    def fit_transform(self,data: np.ndarray) -> np.ndarray:\n",
    "        min_ = np.min(a= data, axis = 0) # compute the min\n",
    "        max_= np.max(a= data, axis=0)# compute the max\n",
    "        diff = max_ - min_\n",
    "        mask = diff !=0 # compute the denominator\n",
    "\n",
    "        scaled_data = np.full_like(data, fill_value=0) \n",
    "\n",
    "        scaled_data[:, mask] = (data[:, mask] -min_[mask]) / diff[mask]\n",
    "\n",
    "        return scaled_data"
   ]
  },
  {
   "cell_type": "code",
   "execution_count": 4,
   "metadata": {},
   "outputs": [
    {
     "data": {
      "text/plain": [
       "array([[0.5 , 0.  , 0.75, 0.  ],\n",
       "       [0.75, 0.5 , 0.25, 0.  ],\n",
       "       [0.25, 1.  , 0.  , 0.  ],\n",
       "       [0.  , 1.  , 1.  , 0.  ],\n",
       "       [1.  , 1.  , 0.5 , 0.  ]])"
      ]
     },
     "execution_count": 4,
     "metadata": {},
     "output_type": "execute_result"
    }
   ],
   "source": [
    "scaler = CustomMinMaxScaler()\n",
    "\n",
    "scaled_data = scaler.fit_transform(data)\n",
    "scaled_data"
   ]
  },
  {
   "cell_type": "code",
   "execution_count": 5,
   "metadata": {},
   "outputs": [
    {
     "data": {
      "text/plain": [
       "array([[0.5 , 0.  , 0.75, 0.  ],\n",
       "       [0.75, 0.5 , 0.25, 0.  ],\n",
       "       [0.25, 1.  , 0.  , 0.  ],\n",
       "       [0.  , 1.  , 1.  , 0.  ],\n",
       "       [1.  , 1.  , 0.5 , 0.  ]])"
      ]
     },
     "execution_count": 5,
     "metadata": {},
     "output_type": "execute_result"
    }
   ],
   "source": [
    "from sklearn.preprocessing import MinMaxScaler\n",
    "\n",
    "scaler1 = MinMaxScaler()\n",
    "\n",
    "scaled_data1 = scaler1.fit_transform(data)\n",
    "scaled_data1"
   ]
  },
  {
   "cell_type": "code",
   "execution_count": 6,
   "metadata": {},
   "outputs": [
    {
     "data": {
      "text/plain": [
       "array([[ True,  True,  True,  True],\n",
       "       [ True,  True,  True,  True],\n",
       "       [ True,  True,  True,  True],\n",
       "       [ True,  True,  True,  True],\n",
       "       [ True,  True,  True,  True]])"
      ]
     },
     "execution_count": 6,
     "metadata": {},
     "output_type": "execute_result"
    }
   ],
   "source": [
    "scaled_data1 == scaled_data"
   ]
  },
  {
   "cell_type": "code",
   "execution_count": null,
   "metadata": {},
   "outputs": [],
   "source": []
  }
 ],
 "metadata": {
  "kernelspec": {
   "display_name": "base",
   "language": "python",
   "name": "python3"
  },
  "language_info": {
   "codemirror_mode": {
    "name": "ipython",
    "version": 3
   },
   "file_extension": ".py",
   "mimetype": "text/x-python",
   "name": "python",
   "nbconvert_exporter": "python",
   "pygments_lexer": "ipython3",
   "version": "3.11.4"
  }
 },
 "nbformat": 4,
 "nbformat_minor": 2
}
