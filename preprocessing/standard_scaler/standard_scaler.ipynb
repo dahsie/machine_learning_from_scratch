{
 "cells": [
  {
   "cell_type": "code",
   "execution_count": 28,
   "metadata": {},
   "outputs": [],
   "source": [
    "import numpy as np"
   ]
  },
  {
   "cell_type": "code",
   "execution_count": 23,
   "metadata": {},
   "outputs": [],
   "source": [
    "class CustomStandardScaler:\n",
    "\n",
    "    def __init__(self):\n",
    "        pass\n",
    "\n",
    "    def fit_transform(self,data: np.ndarray) -> np.ndarray:\n",
    "        mean = np.mean(a= data, axis = 0) # compute the mean\n",
    "        std = np.std(a= data, axis=0)# compute the standard deviation\n",
    "        mask = std !=0 # compute mask in order to avoid deviding by zero\n",
    "\n",
    "        scaled_data = np.full_like(data, fill_value=0) \n",
    "\n",
    "        scaled_data[:, mask] = (data[:, mask] - mean[mask])/ std[mask]\n",
    "\n",
    "        return scaled_data"
   ]
  },
  {
   "cell_type": "code",
   "execution_count": 24,
   "metadata": {},
   "outputs": [],
   "source": [
    "data = np.array([[ 1., -1.,  2., 1],\n",
    "                 [ 2.,  0.,  0., 1],\n",
    "                 [ 0.,  1., -1., 1],\n",
    "                 [ -1.,  1., 3., 1],\n",
    "                 [ 3.,  1., 1., 1]])"
   ]
  },
  {
   "cell_type": "code",
   "execution_count": 25,
   "metadata": {},
   "outputs": [
    {
     "data": {
      "text/plain": [
       "array([[ 0.        , -1.75      ,  0.70710678,  0.        ],\n",
       "       [ 0.70710678, -0.5       , -0.70710678,  0.        ],\n",
       "       [-0.70710678,  0.75      , -1.41421356,  0.        ],\n",
       "       [-1.41421356,  0.75      ,  1.41421356,  0.        ],\n",
       "       [ 1.41421356,  0.75      ,  0.        ,  0.        ]])"
      ]
     },
     "execution_count": 25,
     "metadata": {},
     "output_type": "execute_result"
    }
   ],
   "source": [
    "custom_scaler = CustomStandardScaler()\n",
    "\n",
    "transform_data = custom_scaler.fit_transform(data)\n",
    "transform_data"
   ]
  },
  {
   "cell_type": "code",
   "execution_count": 26,
   "metadata": {},
   "outputs": [
    {
     "data": {
      "text/plain": [
       "array([[ 0.        , -1.75      ,  0.70710678,  0.        ],\n",
       "       [ 0.70710678, -0.5       , -0.70710678,  0.        ],\n",
       "       [-0.70710678,  0.75      , -1.41421356,  0.        ],\n",
       "       [-1.41421356,  0.75      ,  1.41421356,  0.        ],\n",
       "       [ 1.41421356,  0.75      ,  0.        ,  0.        ]])"
      ]
     },
     "execution_count": 26,
     "metadata": {},
     "output_type": "execute_result"
    }
   ],
   "source": [
    "from sklearn.preprocessing import StandardScaler\n",
    "\n",
    "standard = StandardScaler()\n",
    "\n",
    "scaled_data = standard.fit_transform(data)\n",
    "scaled_data"
   ]
  },
  {
   "cell_type": "code",
   "execution_count": 27,
   "metadata": {},
   "outputs": [
    {
     "data": {
      "text/plain": [
       "array([[ True,  True,  True,  True],\n",
       "       [ True,  True,  True,  True],\n",
       "       [ True,  True,  True,  True],\n",
       "       [ True,  True,  True,  True],\n",
       "       [ True,  True,  True,  True]])"
      ]
     },
     "execution_count": 27,
     "metadata": {},
     "output_type": "execute_result"
    }
   ],
   "source": [
    "scaled_data == transform_data"
   ]
  },
  {
   "cell_type": "code",
   "execution_count": null,
   "metadata": {},
   "outputs": [],
   "source": []
  }
 ],
 "metadata": {
  "kernelspec": {
   "display_name": "base",
   "language": "python",
   "name": "python3"
  },
  "language_info": {
   "codemirror_mode": {
    "name": "ipython",
    "version": 3
   },
   "file_extension": ".py",
   "mimetype": "text/x-python",
   "name": "python",
   "nbconvert_exporter": "python",
   "pygments_lexer": "ipython3",
   "version": "3.11.4"
  }
 },
 "nbformat": 4,
 "nbformat_minor": 2
}
